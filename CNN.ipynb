{
 "cells": [
  {
   "cell_type": "code",
   "execution_count": 2,
   "id": "910f8fdd-2913-499b-b612-d038c7fb17e1",
   "metadata": {},
   "outputs": [],
   "source": [
    "import numpy as np\n",
    "import torch\n",
    "import random\n",
    "import matplotlib.pyplot as plt\n",
    "import torch.nn as nn\n",
    "import torch.nn.functional as F\n",
    "from sklearn.model_selection import train_test_split\n",
    "from torch.utils.data import DataLoader, TensorDataset"
   ]
  },
  {
   "cell_type": "code",
   "execution_count": 3,
   "id": "6a17fc7f-3524-4b69-a172-df22058a695b",
   "metadata": {},
   "outputs": [
    {
     "name": "stdout",
     "output_type": "stream",
     "text": [
      "X shape: (38015, 52, 52, 1)\n",
      "y shape: (38015, 8)\n"
     ]
    }
   ],
   "source": [
    "# Load the dataset\n",
    "dataset_path = \"/Users/jell15/Downloads/archive/Wafer_Map_Datasets.npz\"  # Update with your dataset path\n",
    "data = np.load(dataset_path)\n",
    "\n",
    "# Extract features and labels\n",
    "X = data['arr_0']  # Feature data (e.g., images)\n",
    "y = data['arr_1']  # Labels (e.g., class indices)\n",
    "\n",
    "# Normalize feature data to range [0, 1]\n",
    "X = X / 255.0\n",
    "\n",
    "# Ensure feature data has the correct shape\n",
    "X = X.reshape(-1, X.shape[1], X.shape[2], 1)  # Ensure (num_samples, 52, 52, 1)\n",
    "\n",
    "# Verify shapes\n",
    "print(\"X shape:\", X.shape)\n",
    "print(\"y shape:\", y.shape)\n"
   ]
  },
  {
   "cell_type": "code",
   "execution_count": 4,
   "id": "76d2bf30-6a06-46e6-b6a2-41422da040e7",
   "metadata": {},
   "outputs": [],
   "source": [
    "# Set random seeds for reproducibility\n",
    "torch.manual_seed(42)\n",
    "np.random.seed(42)\n",
    "random.seed(42)\n",
    "if torch.cuda.is_available():\n",
    "    torch.cuda.manual_seed(42)\n",
    "    torch.backends.cudnn.deterministic = True\n",
    "    torch.backends.cudnn.benchmark = False"
   ]
  },
  {
   "cell_type": "code",
   "execution_count": 5,
   "id": "929f0ce0-cd76-4a27-ae69-78780ab17aa9",
   "metadata": {},
   "outputs": [],
   "source": [
    "# Split dataset into train, validation, and test sets\n",
    "X_train, X_temp, y_train, y_temp = train_test_split(X, y, test_size=0.3, random_state=42)\n",
    "X_val, X_test, y_val, y_test = train_test_split(X_temp, y_temp, test_size=0.5, random_state=42)\n",
    "\n",
    "# Convert one-hot encoded labels to integer indices\n",
    "y_train = torch.tensor(np.argmax(y_train, axis=1), dtype=torch.long)\n",
    "y_val = torch.tensor(np.argmax(y_val, axis=1), dtype=torch.long)\n",
    "y_test = torch.tensor(np.argmax(y_test, axis=1), dtype=torch.long)\n",
    "\n",
    "# Convert feature data to PyTorch tensors\n",
    "X_train = torch.tensor(X_train, dtype=torch.float32).permute(0, 3, 1, 2)  # From (N, H, W, C) to (N, C, H, W)\n",
    "X_val = torch.tensor(X_val, dtype=torch.float32).permute(0, 3, 1, 2)\n",
    "X_test = torch.tensor(X_test, dtype=torch.float32).permute(0, 3, 1, 2)\n",
    "\n",
    "# Create TensorDatasets\n",
    "train_dataset = TensorDataset(X_train, y_train)\n",
    "val_dataset = TensorDataset(X_val, y_val)\n",
    "test_dataset = TensorDataset(X_test, y_test)\n",
    "\n",
    "# Create DataLoaders\n",
    "train_loader = DataLoader(train_dataset, batch_size=64, shuffle=True)\n",
    "val_loader = DataLoader(val_dataset, batch_size=64, shuffle=False)\n",
    "test_loader = DataLoader(test_dataset, batch_size=64, shuffle=False)"
   ]
  },
  {
   "cell_type": "code",
   "execution_count": 6,
   "id": "e75d654a-fc81-4b86-8b1f-386fbdd073da",
   "metadata": {},
   "outputs": [
    {
     "name": "stdout",
     "output_type": "stream",
     "text": [
      "Batch X shape: torch.Size([64, 1, 52, 52])\n",
      "Batch y shape: torch.Size([64])\n"
     ]
    }
   ],
   "source": [
    "# Create TensorDatasets\n",
    "train_dataset = TensorDataset(X_train, y_train)\n",
    "val_dataset = TensorDataset(X_val, y_val)\n",
    "test_dataset = TensorDataset(X_test, y_test)\n",
    "\n",
    "# Create DataLoaders\n",
    "train_loader = DataLoader(train_dataset, batch_size=64, shuffle=True)\n",
    "val_loader = DataLoader(val_dataset, batch_size=64, shuffle=False)\n",
    "test_loader = DataLoader(test_dataset, batch_size=64, shuffle=False)\n",
    "\n",
    "# Verify DataLoader\n",
    "for inputs, labels in train_loader:\n",
    "    print(\"Batch X shape:\", inputs.shape)\n",
    "    print(\"Batch y shape:\", labels.shape)\n",
    "    break"
   ]
  },
  {
   "cell_type": "code",
   "execution_count": null,
   "id": "4fe37510-367e-4055-86e4-8ebef5898946",
   "metadata": {},
   "outputs": [
    {
     "name": "stdout",
     "output_type": "stream",
     "text": [
      "WaferMapCNN(\n",
      "  (conv1): Conv2d(1, 32, kernel_size=(3, 3), stride=(1, 1), padding=(1, 1))\n",
      "  (pool): MaxPool2d(kernel_size=2, stride=2, padding=0, dilation=1, ceil_mode=False)\n",
      "  (conv2): Conv2d(32, 64, kernel_size=(3, 3), stride=(1, 1), padding=(1, 1))\n",
      "  (conv3): Conv2d(64, 128, kernel_size=(3, 3), stride=(1, 1), padding=(1, 1))\n",
      "  (fc1): Linear(in_features=4608, out_features=128, bias=True)\n",
      "  (fc2): Linear(in_features=128, out_features=2, bias=True)\n",
      ")\n"
     ]
    }
   ],
   "source": [
    "# Define the CNN architecture\n",
    "class WaferMapCNN(nn.Module):\n",
    "    def __init__(self, num_classes):\n",
    "        super(WaferMapCNN, self).__init__()\n",
    "        self.conv1 = nn.Conv2d(in_channels=1, out_channels=32, kernel_size=3, stride=1, padding=1)  # Grayscale input\n",
    "        self.pool = nn.MaxPool2d(kernel_size=2, stride=2)  # Pooling layer\n",
    "        self.conv2 = nn.Conv2d(in_channels=32, out_channels=64, kernel_size=3, stride=1, padding=1)\n",
    "        self.conv3 = nn.Conv2d(in_channels=64, out_channels=128, kernel_size=3, stride=1, padding=1)  # Additional convolution\n",
    "        self.fc1 = nn.Linear(128 * 6 * 6, 128)  # Adjust for 6x6 feature map after pooling\n",
    "        self.fc2 = nn.Linear(128, num_classes)  # Output layer\n",
    "\n",
    "    def forward(self, x):\n",
    "        x = self.pool(F.relu(self.conv1(x)))  # Conv1 -> ReLU -> Pool\n",
    "        x = self.pool(F.relu(self.conv2(x)))  # Conv2 -> ReLU -> Pool\n",
    "        x = self.pool(F.relu(self.conv3(x)))  # Conv3 -> ReLU -> Pool\n",
    "        x = x.view(-1, 128 * 6 * 6)  # Flatten feature maps to a vector\n",
    "        x = F.relu(self.fc1(x))  # Fully connected -> ReLU\n",
    "        x = self.fc2(x)  # Output layer\n",
    "        return x\n",
    "\n",
    "# Initialize the model\n",
    "num_classes = len(np.unique(y))  # Number of unique classes in your dataset\n",
    "model = WaferMapCNN(num_classes=8)\n",
    "print(model)"
   ]
  },
  {
   "cell_type": "code",
   "execution_count": 8,
   "id": "e3e53bce-86f8-4761-9f00-883bf277e909",
   "metadata": {},
   "outputs": [
    {
     "name": "stdout",
     "output_type": "stream",
     "text": [
      "Number of classes in the dataset: 8\n",
      "Epoch 1/20, Loss: 1.5780, Accuracy: 0.3593\n",
      "Epoch 2/20, Loss: 1.5688, Accuracy: 0.3597\n",
      "Epoch 3/20, Loss: 1.5678, Accuracy: 0.3643\n",
      "Epoch 4/20, Loss: 1.5668, Accuracy: 0.3660\n",
      "Epoch 5/20, Loss: 1.0543, Accuracy: 0.5708\n",
      "Epoch 6/20, Loss: 0.3944, Accuracy: 0.8376\n",
      "Epoch 7/20, Loss: 0.2853, Accuracy: 0.8840\n",
      "Epoch 8/20, Loss: 0.2292, Accuracy: 0.9091\n",
      "Epoch 9/20, Loss: 0.2105, Accuracy: 0.9167\n",
      "Epoch 10/20, Loss: 0.2133, Accuracy: 0.9198\n",
      "Epoch 11/20, Loss: 0.1613, Accuracy: 0.9372\n",
      "Epoch 12/20, Loss: 0.1471, Accuracy: 0.9449\n",
      "Epoch 13/20, Loss: 0.1352, Accuracy: 0.9499\n",
      "Epoch 14/20, Loss: 0.1261, Accuracy: 0.9540\n",
      "Epoch 15/20, Loss: 0.1210, Accuracy: 0.9560\n",
      "Epoch 16/20, Loss: 0.1008, Accuracy: 0.9639\n",
      "Epoch 17/20, Loss: 0.1104, Accuracy: 0.9597\n",
      "Epoch 18/20, Loss: 0.0932, Accuracy: 0.9667\n",
      "Epoch 19/20, Loss: 0.0832, Accuracy: 0.9698\n",
      "Epoch 20/20, Loss: 0.0824, Accuracy: 0.9710\n"
     ]
    }
   ],
   "source": [
    "# Check the number of classes\n",
    "num_classes = torch.unique(y_train).numel()\n",
    "print(f\"Number of classes in the dataset: {num_classes}\")\n",
    "\n",
    "# Define the model\n",
    "model = WaferMapCNN(num_classes=num_classes)\n",
    "\n",
    "# Define the loss function and optimizer\n",
    "criterion = nn.CrossEntropyLoss()\n",
    "optimizer = torch.optim.Adam(model.parameters(), lr=0.001)\n",
    "\n",
    "# Training loop\n",
    "train_losses = []\n",
    "train_accuracies = []\n",
    "num_epochs = 20\n",
    "for epoch in range(num_epochs):\n",
    "    model.train()\n",
    "    running_loss = 0.0\n",
    "    correct = 0\n",
    "    total = 0\n",
    "    for inputs, labels in train_loader:\n",
    "        optimizer.zero_grad()\n",
    "        outputs = model(inputs)\n",
    "        loss = criterion(outputs, labels)\n",
    "        loss.backward()\n",
    "        optimizer.step()\n",
    "\n",
    "        # Track loss and accuracy\n",
    "        running_loss += loss.item()\n",
    "        _, predicted = torch.max(outputs, 1)\n",
    "        total += labels.size(0)\n",
    "        correct += (predicted == labels).sum().item()\n",
    "\n",
    "    # Compute average loss and accuracy\n",
    "    epoch_loss = running_loss / len(train_loader)\n",
    "    epoch_accuracy = correct / total\n",
    "    train_losses.append(epoch_loss)\n",
    "    train_accuracies.append(epoch_accuracy)\n",
    "\n",
    "    print(f\"Epoch {epoch+1}/{num_epochs}, Loss: {epoch_loss:.4f}, Accuracy: {epoch_accuracy:.4f}\")"
   ]
  },
  {
   "cell_type": "code",
   "execution_count": 9,
   "id": "17a4edc4-aff2-4ae7-a1d8-2444197cf557",
   "metadata": {},
   "outputs": [
    {
     "data": {
      "image/png": "[encoded data removed]",
      "text/plain": [
       "<Figure size 800x500 with 2 Axes>"
      ]
     },
     "metadata": {},
     "output_type": "display_data"
    }
   ],
   "source": [
    "# Create a figure\n",
    "plt.figure(figsize=(8, 5))\n",
    "\n",
    "# Plot Training Loss\n",
    "plt.plot(train_losses, label='Training Loss', color='blue')\n",
    "plt.xlabel('Epochs')\n",
    "plt.ylabel('Loss', color='blue')\n",
    "plt.title('Training Loss and Accuracy')\n",
    "plt.legend(loc='upper left')\n",
    "\n",
    "# Create a second y-axis for accuracy\n",
    "plt.twinx()  # Overlay the second y-axis\n",
    "plt.plot(train_accuracies, label='Training Accuracy', color='green')\n",
    "plt.ylabel('Accuracy', color='green')\n",
    "plt.legend(loc='upper right')\n",
    "\n",
    "# Show the plot\n",
    "plt.tight_layout()\n",
    "plt.show()"
   ]
  },
  {
   "cell_type": "code",
   "execution_count": 31,
   "id": "39ac1901-d4a2-4b1b-abef-4b25b8bdbe99",
   "metadata": {},
   "outputs": [
    {
     "name": "stdout",
     "output_type": "stream",
     "text": [
      "Test Loss: 0.1066\n",
      "Test Accuracy: 0.9572\n",
      "\n",
      "Classification Report:\n",
      "              precision    recall  f1-score   support\n",
      "\n",
      "           0       1.00      0.99      1.00      2131\n",
      "           1       0.99      1.00      1.00      1745\n",
      "           2       0.87      0.77      0.82       611\n",
      "           3       0.83      0.99      0.90       597\n",
      "           4       0.92      0.86      0.89       328\n",
      "           5       1.00      0.86      0.93        22\n",
      "           6       0.94      0.82      0.88       140\n",
      "           7       0.97      0.95      0.96       129\n",
      "\n",
      "    accuracy                           0.96      5703\n",
      "   macro avg       0.94      0.91      0.92      5703\n",
      "weighted avg       0.96      0.96      0.96      5703\n",
      "\n"
     ]
    }
   ],
   "source": [
    "from sklearn.metrics import classification_report\n",
    "\n",
    "# Initialize test loss and predictions\n",
    "test_loss = 0.0\n",
    "correct = 0\n",
    "total = 0\n",
    "\n",
    "all_labels = []\n",
    "all_predictions = []\n",
    "\n",
    "model.eval()  # Set the model to evaluation mode\n",
    "with torch.no_grad():\n",
    "    for inputs, labels in test_loader:\n",
    "        outputs = model(inputs)\n",
    "\n",
    "        # Compute the loss for the current batch\n",
    "        loss = criterion(outputs, labels)\n",
    "        test_loss += loss.item()  # Accumulate the loss\n",
    "\n",
    "        # Compute predictions\n",
    "        _, predicted = torch.max(outputs, 1)\n",
    "        total += labels.size(0)\n",
    "        correct += (predicted == labels).sum().item()\n",
    "\n",
    "        # Store all labels and predictions for classification report\n",
    "        all_labels.extend(labels.cpu().numpy())\n",
    "        all_predictions.extend(predicted.cpu().numpy())\n",
    "\n",
    "# Calculate average test loss\n",
    "test_loss /= len(test_loader) \n",
    "\n",
    "# Calculate test accuracy\n",
    "test_accuracy = correct / total\n",
    "\n",
    "# Print the results\n",
    "print(f\"Test Loss: {test_loss:.4f}\")\n",
    "print(f\"Test Accuracy: {test_accuracy:.4f}\")\n",
    "\n",
    "# Generate and print classification report\n",
    "print(\"\\nClassification Report:\")\n",
    "print(classification_report(all_labels, all_predictions))\n"
   ]
  },
  {
   "cell_type": "code",
   "execution_count": 21,
   "id": "f60ae91f-0864-4219-8727-36865693e649",
   "metadata": {},
   "outputs": [
    {
     "name": "stdout",
     "output_type": "stream",
     "text": [
      "CNN model saved as 'cnn_model.pth'\n"
     ]
    }
   ],
   "source": [
    "# Save the state dictionary of the trained CNN model\n",
    "torch.save(model.state_dict(), \"cnn_model.pth\")\n",
    "print(\"CNN model saved as 'cnn_model.pth'\")"
   ]
  }
 ],
 "metadata": {
  "kernelspec": {
   "display_name": "Python 3 (ipykernel)",
   "language": "python",
   "name": "python3"
  },
  "language_info": {
   "codemirror_mode": {
    "name": "ipython",
    "version": 3
   },
   "file_extension": ".py",
   "mimetype": "text/x-python",
   "name": "python",
   "nbconvert_exporter": "python",
   "pygments_lexer": "ipython3",
   "version": "3.12.7"
  }
 },
 "nbformat": 4,
 "nbformat_minor": 5
}
